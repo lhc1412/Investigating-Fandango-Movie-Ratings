{
 "cells": [
  {
   "cell_type": "markdown",
   "metadata": {},
   "source": [
    "# Investigating Fandango Movie Ratings\n",
    "\n",
    "In October 2015, a data journalist named Walt Hickey analyzed movie ratings data and suggested that Fandango's rating system was biased and dishonest ([Fandango](https://www.fandango.com/) is an online movie ratings aggregator). He published his analysis in [this article](https://fivethirtyeight.com/features/fandango-movies-ratings/).\n",
    "\n",
    "Fandango displays a 5-star rating system on their website, where the minimum rating is 0 stars and the maximum is 5 stars. Hickey found that there's a significant discrepancy between the number of stars displayed to users and the actual rating, which he was able to find in the HTML of the page. He was able to find that:\n",
    "\n",
    "- The actual rating was almost always rounded up to the nearest half-star. For instance, a 4.1 movie would be rounded off to 4.5 stars, not to 4 stars, as you may expect.\n",
    "- In the case of 8% of the ratings analyzed, the rounding up was done to the nearest whole star. For instance, a 4.5 rating would be rounded off to 5 stars.\n",
    "- For one movie rating, the rounding off was completely bizarre: from a rating of 4 in the HTML of the page to a displayed rating of 5 stars.\n",
    "\n",
    "Fandango's officials replied that the biased rounding off was caused by a bug in their system rather than being intentional, and they promised to fix the bug as soon as possible. Presumably, this has already happened, although we can't tell for sure since the actual rating value doesn't seem to be displayed anymore in the pages' HTML.\n",
    "\n",
    "In this project, I'll analyze more recent movie ratings data to determine whether there has been any change in Fandango's rating system after Hickey's analysis.\n",
    "\n",
    "I will compare the system's characteristics previous and after the analysis.\n",
    "\n",
    "- Walt Hickey made the data he analyzed publicly available on [GitHub](https://github.com/fivethirtyeight/data/tree/master/fandango). We'll use the data he collected to analyze the characteristics of Fandango's rating system previous to his analysis.\n",
    "\n",
    "- One of Dataquest's team members collected movie ratings data for movies released in 2016 and 2017. The data is publicly available on [GitHub](https://github.com/mircealex/Movie_ratings_2016_17) and we'll use it to analyze the rating system's characteristics after Hickey's analysis.\n",
    "\n",
    "### Summary of results\n",
    "There is a difference between the Fandango's rating of popular movies in 2015 and 2016. The rating in 2016 is lower than the rating in 2015.\n",
    "\n",
    "- Both distributions of 2015 and 2016 movies are strongly left skewed.\n",
    "- The 2016 distribution is shifted to left relative to 2015 distribution.\n",
    "- The mean rating of 2016 movies drops 0.2, which means the average rating of 2016 movies is 5% lower than 2015. \n",
    "- The 2016 mode rating is 4.5 in 2016 and 4.0 in 2015.\n",
    "- The median ratings of both years are the same"
   ]
  },
  {
   "cell_type": "markdown",
   "metadata": {},
   "source": [
    "## Reading in data"
   ]
  },
  {
   "cell_type": "code",
   "execution_count": 109,
   "metadata": {
    "collapsed": false
   },
   "outputs": [],
   "source": [
    "import pandas as pd\n",
    "import numpy as np\n",
    "import matplotlib.pyplot as plt\n",
    "%matplotlib inline\n",
    "\n",
    "# read in two data sets\n",
    "fandango = pd.read_csv('fandango_score_comparison.csv')\n",
    "movies = pd.read_csv('movie_ratings_16_17.csv')"
   ]
  },
  {
   "cell_type": "code",
   "execution_count": 110,
   "metadata": {
    "collapsed": false
   },
   "outputs": [
    {
     "name": "stdout",
     "output_type": "stream",
     "text": [
      "<class 'pandas.core.frame.DataFrame'>\n",
      "RangeIndex: 146 entries, 0 to 145\n",
      "Data columns (total 22 columns):\n",
      "FILM                          146 non-null object\n",
      "RottenTomatoes                146 non-null int64\n",
      "RottenTomatoes_User           146 non-null int64\n",
      "Metacritic                    146 non-null int64\n",
      "Metacritic_User               146 non-null float64\n",
      "IMDB                          146 non-null float64\n",
      "Fandango_Stars                146 non-null float64\n",
      "Fandango_Ratingvalue          146 non-null float64\n",
      "RT_norm                       146 non-null float64\n",
      "RT_user_norm                  146 non-null float64\n",
      "Metacritic_norm               146 non-null float64\n",
      "Metacritic_user_nom           146 non-null float64\n",
      "IMDB_norm                     146 non-null float64\n",
      "RT_norm_round                 146 non-null float64\n",
      "RT_user_norm_round            146 non-null float64\n",
      "Metacritic_norm_round         146 non-null float64\n",
      "Metacritic_user_norm_round    146 non-null float64\n",
      "IMDB_norm_round               146 non-null float64\n",
      "Metacritic_user_vote_count    146 non-null int64\n",
      "IMDB_user_vote_count          146 non-null int64\n",
      "Fandango_votes                146 non-null int64\n",
      "Fandango_Difference           146 non-null float64\n",
      "dtypes: float64(15), int64(6), object(1)\n",
      "memory usage: 25.2+ KB\n",
      "\n",
      "<class 'pandas.core.frame.DataFrame'>\n",
      "RangeIndex: 214 entries, 0 to 213\n",
      "Data columns (total 15 columns):\n",
      "movie           214 non-null object\n",
      "year            214 non-null int64\n",
      "metascore       214 non-null int64\n",
      "imdb            214 non-null float64\n",
      "tmeter          214 non-null int64\n",
      "audience        214 non-null int64\n",
      "fandango        214 non-null float64\n",
      "n_metascore     214 non-null float64\n",
      "n_imdb          214 non-null float64\n",
      "n_tmeter        214 non-null float64\n",
      "n_audience      214 non-null float64\n",
      "nr_metascore    214 non-null float64\n",
      "nr_imdb         214 non-null float64\n",
      "nr_tmeter       214 non-null float64\n",
      "nr_audience     214 non-null float64\n",
      "dtypes: float64(10), int64(4), object(1)\n",
      "memory usage: 25.2+ KB\n"
     ]
    }
   ],
   "source": [
    "# explore data sets\n",
    "fandango.info()\n",
    "print()\n",
    "movies.info()"
   ]
  },
  {
   "cell_type": "code",
   "execution_count": 111,
   "metadata": {
    "collapsed": false
   },
   "outputs": [],
   "source": [
    "# extract related columns\n",
    "fandango = fandango[['FILM', 'Fandango_Stars', 'Fandango_Ratingvalue', \n",
    "                     'Fandango_votes', 'Fandango_Difference']].copy()\n",
    "movies = movies[['movie', 'year', 'fandango']].copy()"
   ]
  },
  {
   "cell_type": "code",
   "execution_count": 112,
   "metadata": {
    "collapsed": false
   },
   "outputs": [
    {
     "name": "stdout",
     "output_type": "stream",
     "text": [
      "                             FILM  Fandango_Stars  Fandango_Ratingvalue  \\\n",
      "0  Avengers: Age of Ultron (2015)             5.0                   4.5   \n",
      "1               Cinderella (2015)             5.0                   4.5   \n",
      "2                  Ant-Man (2015)             5.0                   4.5   \n",
      "\n",
      "   Fandango_votes  Fandango_Difference  \n",
      "0           14846                  0.5  \n",
      "1           12640                  0.5  \n",
      "2           12055                  0.5  \n",
      "                 movie  year  fandango\n",
      "0  10 Cloverfield Lane  2016       3.5\n",
      "1             13 Hours  2016       4.5\n",
      "2  A Cure for Wellness  2016       3.0\n"
     ]
    }
   ],
   "source": [
    "# display first 3 rows of the database\n",
    "print(fandango.head(3))\n",
    "print(movies.head(3))"
   ]
  },
  {
   "cell_type": "markdown",
   "metadata": {},
   "source": [
    "The goal of the project is to detemine if there is any change for the Fandango's rating system after Hicky's investigation. The population of interest for the analysis is made of all the movie ratings stored on Fandango's website, regardless of the releasing year. To do that, two data sets are needed, the Fangango ratings of movies before the publication of the investigation and the Fangango ratings of movies after the publication of the investigation.\n",
    "\n",
    "From [the README.md](https://github.com/fivethirtyeight/data/blob/master/fandango/README.md) file and [Hickey's article](https://fivethirtyeight.com/features/fandango-movies-ratings/), the fandango data set contains samples filfulling the following two criterias:\n",
    "- The movie must have at least 30 fan reviews on Fandango (Aug. 24, 2015).\n",
    "- The movie must have had tickets on sale in 2015.\n",
    "\n",
    "Because of these critirias, it's questionable that the samples can represent the entire population of interest.\n",
    "\n",
    "For the movies data set, from the [README.md](https://github.com/mircealex/Movie_ratings_2016_17/blob/master/README.md) of the repository, it contains samples fulfilling the following two criterias:\n",
    "- The movie is released in 2016 or 2017.\n",
    "- The movie is with a significant number of votes (defination of significant is unclear)\n",
    "\n",
    "It is also hard to say that the samples in this data set is representative for the whole population. "
   ]
  },
  {
   "cell_type": "markdown",
   "metadata": {},
   "source": [
    "## Changing the goal of the analysis\n",
    "\n",
    "Due to the lack of representative sampling, I decided to to change the goal of the analysis.\n",
    "\n",
    "Instead of determining if there is any change in Fandango's rating system after Hickey's investigation, i am going to find out whether there's any difference between Fandango's ratings for popular movies in 2015 and Fandango's ratings for popular movies in 2016. This new goal is also a possible proxy for the original goal.\n",
    "\n",
    "With the new goal, there are two populations that I want to describe and compare with each other:\n",
    "\n",
    "- All Fandango's ratings for popular movies released in 2015.\n",
    "- All Fandango's ratings for popular movies released in 2016.\n",
    "\n",
    "For the defination of popular movie, it's defined as the movies with at least 5000 user reviews on Rotten tomatos. \n",
    "\n",
    "For the two datasets, as they do not contain any information regarding the number of user review in rotten tomatos. I will randomly select 10 samples form the data sets and check if they fulfill the critecias of population."
   ]
  },
  {
   "cell_type": "markdown",
   "metadata": {},
   "source": [
    "## Isolating related data"
   ]
  },
  {
   "cell_type": "code",
   "execution_count": 113,
   "metadata": {
    "collapsed": false
   },
   "outputs": [
    {
     "name": "stdout",
     "output_type": "stream",
     "text": [
      "<class 'pandas.core.frame.DataFrame'>\n",
      "Int64Index: 129 entries, 0 to 145\n",
      "Data columns (total 6 columns):\n",
      "FILM                    129 non-null object\n",
      "Fandango_Stars          129 non-null float64\n",
      "Fandango_Ratingvalue    129 non-null float64\n",
      "Fandango_votes          129 non-null int64\n",
      "Fandango_Difference     129 non-null float64\n",
      "year                    129 non-null int64\n",
      "dtypes: float64(3), int64(2), object(1)\n",
      "memory usage: 7.1+ KB\n",
      "None\n"
     ]
    },
    {
     "data": {
      "text/html": [
       "<div>\n",
       "<style scoped>\n",
       "    .dataframe tbody tr th:only-of-type {\n",
       "        vertical-align: middle;\n",
       "    }\n",
       "\n",
       "    .dataframe tbody tr th {\n",
       "        vertical-align: top;\n",
       "    }\n",
       "\n",
       "    .dataframe thead th {\n",
       "        text-align: right;\n",
       "    }\n",
       "</style>\n",
       "<table border=\"1\" class=\"dataframe\">\n",
       "  <thead>\n",
       "    <tr style=\"text-align: right;\">\n",
       "      <th></th>\n",
       "      <th>FILM</th>\n",
       "      <th>Fandango_Stars</th>\n",
       "      <th>Fandango_Ratingvalue</th>\n",
       "      <th>Fandango_votes</th>\n",
       "      <th>Fandango_Difference</th>\n",
       "      <th>year</th>\n",
       "    </tr>\n",
       "  </thead>\n",
       "  <tbody>\n",
       "    <tr>\n",
       "      <th>48</th>\n",
       "      <td>Fantastic Four (2015)</td>\n",
       "      <td>3.0</td>\n",
       "      <td>2.7</td>\n",
       "      <td>6288</td>\n",
       "      <td>0.3</td>\n",
       "      <td>2015</td>\n",
       "    </tr>\n",
       "    <tr>\n",
       "      <th>31</th>\n",
       "      <td>When Marnie Was There (2015)</td>\n",
       "      <td>4.5</td>\n",
       "      <td>4.1</td>\n",
       "      <td>46</td>\n",
       "      <td>0.4</td>\n",
       "      <td>2015</td>\n",
       "    </tr>\n",
       "    <tr>\n",
       "      <th>123</th>\n",
       "      <td>Magic Mike XXL (2015)</td>\n",
       "      <td>4.5</td>\n",
       "      <td>4.4</td>\n",
       "      <td>9363</td>\n",
       "      <td>0.1</td>\n",
       "      <td>2015</td>\n",
       "    </tr>\n",
       "    <tr>\n",
       "      <th>59</th>\n",
       "      <td>Mortdecai (2015)</td>\n",
       "      <td>3.5</td>\n",
       "      <td>3.2</td>\n",
       "      <td>1196</td>\n",
       "      <td>0.3</td>\n",
       "      <td>2015</td>\n",
       "    </tr>\n",
       "    <tr>\n",
       "      <th>9</th>\n",
       "      <td>Love &amp; Mercy (2015)</td>\n",
       "      <td>4.5</td>\n",
       "      <td>4.0</td>\n",
       "      <td>864</td>\n",
       "      <td>0.5</td>\n",
       "      <td>2015</td>\n",
       "    </tr>\n",
       "    <tr>\n",
       "      <th>138</th>\n",
       "      <td>Spare Parts (2015)</td>\n",
       "      <td>4.5</td>\n",
       "      <td>4.5</td>\n",
       "      <td>450</td>\n",
       "      <td>0.0</td>\n",
       "      <td>2015</td>\n",
       "    </tr>\n",
       "    <tr>\n",
       "      <th>52</th>\n",
       "      <td>The Age of Adaline (2015)</td>\n",
       "      <td>4.5</td>\n",
       "      <td>4.2</td>\n",
       "      <td>3325</td>\n",
       "      <td>0.3</td>\n",
       "      <td>2015</td>\n",
       "    </tr>\n",
       "    <tr>\n",
       "      <th>120</th>\n",
       "      <td>The Wolfpack (2015)</td>\n",
       "      <td>3.5</td>\n",
       "      <td>3.4</td>\n",
       "      <td>66</td>\n",
       "      <td>0.1</td>\n",
       "      <td>2015</td>\n",
       "    </tr>\n",
       "    <tr>\n",
       "      <th>85</th>\n",
       "      <td>Little Boy (2015)</td>\n",
       "      <td>4.5</td>\n",
       "      <td>4.3</td>\n",
       "      <td>811</td>\n",
       "      <td>0.2</td>\n",
       "      <td>2015</td>\n",
       "    </tr>\n",
       "    <tr>\n",
       "      <th>8</th>\n",
       "      <td>Shaun the Sheep Movie (2015)</td>\n",
       "      <td>4.5</td>\n",
       "      <td>4.0</td>\n",
       "      <td>896</td>\n",
       "      <td>0.5</td>\n",
       "      <td>2015</td>\n",
       "    </tr>\n",
       "  </tbody>\n",
       "</table>\n",
       "</div>"
      ],
      "text/plain": [
       "                             FILM  Fandango_Stars  Fandango_Ratingvalue  \\\n",
       "48          Fantastic Four (2015)             3.0                   2.7   \n",
       "31   When Marnie Was There (2015)             4.5                   4.1   \n",
       "123         Magic Mike XXL (2015)             4.5                   4.4   \n",
       "59               Mortdecai (2015)             3.5                   3.2   \n",
       "9             Love & Mercy (2015)             4.5                   4.0   \n",
       "138            Spare Parts (2015)             4.5                   4.5   \n",
       "52      The Age of Adaline (2015)             4.5                   4.2   \n",
       "120           The Wolfpack (2015)             3.5                   3.4   \n",
       "85              Little Boy (2015)             4.5                   4.3   \n",
       "8    Shaun the Sheep Movie (2015)             4.5                   4.0   \n",
       "\n",
       "     Fandango_votes  Fandango_Difference  year  \n",
       "48             6288                  0.3  2015  \n",
       "31               46                  0.4  2015  \n",
       "123            9363                  0.1  2015  \n",
       "59             1196                  0.3  2015  \n",
       "9               864                  0.5  2015  \n",
       "138             450                  0.0  2015  \n",
       "52             3325                  0.3  2015  \n",
       "120              66                  0.1  2015  \n",
       "85              811                  0.2  2015  \n",
       "8               896                  0.5  2015  "
      ]
     },
     "execution_count": 113,
     "metadata": {},
     "output_type": "execute_result"
    }
   ],
   "source": [
    "# create column for release year and extract release year from film name\n",
    "fandango['year'] = fandango['FILM'].str[-5:-1].astype(int)\n",
    "\n",
    "# isolate movies released in 2015\n",
    "fandango_15 = fandango[fandango['year'] == 2015]\n",
    "print(fandango_15.info())\n",
    "\n",
    "# random select 10 samples from the first data sets, random state set to 0\n",
    "fandango_15.sample(10, random_state = 0)"
   ]
  },
  {
   "cell_type": "markdown",
   "metadata": {
    "collapsed": false
   },
   "source": [
    "All the 10 samples have more than 5000 user ratings. The first data set fulfill the requirements.\n",
    "\n",
    "| Film | Number of ratings |\n",
    "| --- | --- |\n",
    "| Fantastic Four | 137808 |\n",
    "| When Marnie Was There | 6239 |\n",
    "| Magic Mike XXL | 35016 |\n",
    "| Mortdecai | 25313 |\n",
    "| Love & Mercy | 19937 |\n",
    "| Spare Parts | 6761 |\n",
    "| The Age of Adaline | 38609 |\n",
    "| The Wolfpack | 8766 |\n",
    "| Little Boy | 8532 |\n",
    "| Shaun the Sheep Movie | 22694 |\n",
    "\n",
    "Let check the second data set."
   ]
  },
  {
   "cell_type": "code",
   "execution_count": 114,
   "metadata": {
    "collapsed": false
   },
   "outputs": [
    {
     "name": "stdout",
     "output_type": "stream",
     "text": [
      "<class 'pandas.core.frame.DataFrame'>\n",
      "Int64Index: 191 entries, 0 to 213\n",
      "Data columns (total 3 columns):\n",
      "movie       191 non-null object\n",
      "year        191 non-null int64\n",
      "fandango    191 non-null float64\n",
      "dtypes: float64(1), int64(1), object(1)\n",
      "memory usage: 6.0+ KB\n",
      "None\n"
     ]
    },
    {
     "data": {
      "text/html": [
       "<div>\n",
       "<style scoped>\n",
       "    .dataframe tbody tr th:only-of-type {\n",
       "        vertical-align: middle;\n",
       "    }\n",
       "\n",
       "    .dataframe tbody tr th {\n",
       "        vertical-align: top;\n",
       "    }\n",
       "\n",
       "    .dataframe thead th {\n",
       "        text-align: right;\n",
       "    }\n",
       "</style>\n",
       "<table border=\"1\" class=\"dataframe\">\n",
       "  <thead>\n",
       "    <tr style=\"text-align: right;\">\n",
       "      <th></th>\n",
       "      <th>movie</th>\n",
       "      <th>year</th>\n",
       "      <th>fandango</th>\n",
       "    </tr>\n",
       "  </thead>\n",
       "  <tbody>\n",
       "    <tr>\n",
       "      <th>121</th>\n",
       "      <td>Nerve</td>\n",
       "      <td>2016</td>\n",
       "      <td>4.0</td>\n",
       "    </tr>\n",
       "    <tr>\n",
       "      <th>83</th>\n",
       "      <td>Jane Got a Gun</td>\n",
       "      <td>2016</td>\n",
       "      <td>3.5</td>\n",
       "    </tr>\n",
       "    <tr>\n",
       "      <th>179</th>\n",
       "      <td>The Great Wall</td>\n",
       "      <td>2016</td>\n",
       "      <td>4.0</td>\n",
       "    </tr>\n",
       "    <tr>\n",
       "      <th>108</th>\n",
       "      <td>Mechanic: Resurrection</td>\n",
       "      <td>2016</td>\n",
       "      <td>4.0</td>\n",
       "    </tr>\n",
       "    <tr>\n",
       "      <th>136</th>\n",
       "      <td>Resident Evil: The Final Chapter</td>\n",
       "      <td>2016</td>\n",
       "      <td>4.0</td>\n",
       "    </tr>\n",
       "    <tr>\n",
       "      <th>80</th>\n",
       "      <td>Inferno</td>\n",
       "      <td>2016</td>\n",
       "      <td>3.5</td>\n",
       "    </tr>\n",
       "    <tr>\n",
       "      <th>22</th>\n",
       "      <td>Ben-Hur</td>\n",
       "      <td>2016</td>\n",
       "      <td>4.0</td>\n",
       "    </tr>\n",
       "    <tr>\n",
       "      <th>137</th>\n",
       "      <td>Ride Along 2</td>\n",
       "      <td>2016</td>\n",
       "      <td>4.0</td>\n",
       "    </tr>\n",
       "    <tr>\n",
       "      <th>160</th>\n",
       "      <td>The Angry Birds Movie</td>\n",
       "      <td>2016</td>\n",
       "      <td>4.0</td>\n",
       "    </tr>\n",
       "    <tr>\n",
       "      <th>8</th>\n",
       "      <td>Allied</td>\n",
       "      <td>2016</td>\n",
       "      <td>4.0</td>\n",
       "    </tr>\n",
       "  </tbody>\n",
       "</table>\n",
       "</div>"
      ],
      "text/plain": [
       "                                movie  year  fandango\n",
       "121                             Nerve  2016       4.0\n",
       "83                     Jane Got a Gun  2016       3.5\n",
       "179                    The Great Wall  2016       4.0\n",
       "108            Mechanic: Resurrection  2016       4.0\n",
       "136  Resident Evil: The Final Chapter  2016       4.0\n",
       "80                            Inferno  2016       3.5\n",
       "22                            Ben-Hur  2016       4.0\n",
       "137                      Ride Along 2  2016       4.0\n",
       "160             The Angry Birds Movie  2016       4.0\n",
       "8                              Allied  2016       4.0"
      ]
     },
     "execution_count": 114,
     "metadata": {},
     "output_type": "execute_result"
    }
   ],
   "source": [
    "# isolate movies released in 2016\n",
    "fandango_16 = movies[movies['year'] == 2016]\n",
    "print(fandango_16.info())\n",
    "\n",
    "# random select 10 samples from the second data sets, random state set to 0\n",
    "fandango_16.sample(10, random_state = 0)"
   ]
  },
  {
   "cell_type": "markdown",
   "metadata": {},
   "source": [
    "All the 10 samples have more than 5000 user ratings. The second data set also fulfill the requirements.\n",
    "\n",
    "| Film | Number of ratings |\n",
    "| --- | --- |\n",
    "| Nerve | 24464 |\n",
    "| Jane Got a Gun | 14059 |\n",
    "| The Great Wall | 23740 |\n",
    "| Mechanic: Resurrection | 25635 |\n",
    "| Resident Evil: The Final Chapter | 59517 |\n",
    "| Inferno | 28776 |\n",
    "| Ben-Hur | 18999 |\n",
    "| Ride Along 2 | 35056 |\n",
    "| The Angry Birds Movie | 29438 |\n",
    "| Allied | 25272 |\n",
    "\n",
    "I will move on with the analysis."
   ]
  },
  {
   "cell_type": "markdown",
   "metadata": {},
   "source": [
    "## Comparing Distribution Shapes for 2015 and 2016"
   ]
  },
  {
   "cell_type": "code",
   "execution_count": 115,
   "metadata": {
    "collapsed": false
   },
   "outputs": [
    {
     "data": {
      "image/png": "[encoded data removed]",
      "text/plain": [
       "<matplotlib.figure.Figure at 0x7f28169dbc50>"
      ]
     },
     "metadata": {},
     "output_type": "display_data"
    }
   ],
   "source": [
    "# generate two kernel density plots to compare the distribution of movie ratings of each samples\n",
    "fandango_15['Fandango_Stars'].plot.kde(label = '2015', legend = True, figsize = (8, 6))\n",
    "fandango_16['fandango'].plot.kde(label = '2016', legend = True)\n",
    "plt.style.use('fivethirtyeight')\n",
    "plt.title('Comparing Distribution Shapes of Fandango ratings', y =1.05 )\n",
    "plt.xlabel('rating')\n",
    "plt.xlim(0,5)\n",
    "plt.xticks(arange(0,5.1,.5))\n",
    "plt.show()"
   ]
  },
  {
   "cell_type": "markdown",
   "metadata": {},
   "source": [
    "The findings are following:\n",
    "- Both distributions are strongly left skewed.\n",
    "- The 2016 distribution is shifted to left relative to 2015 distribution.\n",
    "\n",
    "The left shew suggests that the movie ratings in Fandango tends to be given high or very high. But we can not jump to any conclusion only because of this, it may also happen on other movie rating websites. But as it is not the scope of the current project, I am not moving forward to investigate the reasons behind. \n",
    "\n",
    "The left shift of 2016 distribution sugguests that there is indeed a difference between Fandango's ratings for popular movies in 2015 and Fandango's ratings for popular movies in 2016. Ans the direction of difference is: the ratings is slightly lower in 2016 compared to 2015. "
   ]
  },
  {
   "cell_type": "markdown",
   "metadata": {},
   "source": [
    "# Comparing Relative Frequencies"
   ]
  },
  {
   "cell_type": "code",
   "execution_count": 116,
   "metadata": {
    "collapsed": false
   },
   "outputs": [
    {
     "name": "stdout",
     "output_type": "stream",
     "text": [
      "2015\n",
      "----------------\n"
     ]
    },
    {
     "data": {
      "text/plain": [
       "3.0     8.527132\n",
       "3.5    17.829457\n",
       "4.0    28.682171\n",
       "4.5    37.984496\n",
       "5.0     6.976744\n",
       "Name: Fandango_Stars, dtype: float64"
      ]
     },
     "execution_count": 116,
     "metadata": {},
     "output_type": "execute_result"
    }
   ],
   "source": [
    "print('2015' + '\\n' + '-' * 16)\n",
    "\n",
    "# generate frequency distribution table for 2015 movies \n",
    "fandango_15['Fandango_Stars'].value_counts(normalize = True).sort_index() * 100"
   ]
  },
  {
   "cell_type": "code",
   "execution_count": 117,
   "metadata": {
    "collapsed": false
   },
   "outputs": [
    {
     "name": "stdout",
     "output_type": "stream",
     "text": [
      "2016\n",
      "----------------\n"
     ]
    },
    {
     "data": {
      "text/plain": [
       "2.5     3.141361\n",
       "3.0     7.329843\n",
       "3.5    24.083770\n",
       "4.0    40.314136\n",
       "4.5    24.607330\n",
       "5.0     0.523560\n",
       "Name: fandango, dtype: float64"
      ]
     },
     "execution_count": 117,
     "metadata": {},
     "output_type": "execute_result"
    }
   ],
   "source": [
    "print('2016' + '\\n' + '-' * 16)\n",
    "\n",
    "# generate frequency distribution table for 2016 movies \n",
    "fandango_16['fandango'].value_counts(normalize = True).sort_index() * 100"
   ]
  },
  {
   "cell_type": "markdown",
   "metadata": {},
   "source": [
    "In 2015, the ratings focus on 4.0 and 4.5, nearly 40% of the movies get rated 4.5, which is the biggest proportion. In 2016, the ratings mainly concentrate between 3.5 and 4.5. 40% of the movies get rated 4.0, which is the biggest proportion. There is only 24.6% of the movies get rated 4.5. The difference and it's direction is clear. The rating in 2016 is lower than 2015."
   ]
  },
  {
   "cell_type": "markdown",
   "metadata": {},
   "source": [
    "# Determining the Direction of the Change\n",
    "\n",
    "In this session, I am going to calculate the a couple of summary statistics (mean, mode and median) to get a more precise picture about the direction of the difference."
   ]
  },
  {
   "cell_type": "code",
   "execution_count": 118,
   "metadata": {
    "collapsed": false
   },
   "outputs": [
    {
     "name": "stdout",
     "output_type": "stream",
     "text": [
      "            2015      2016\n",
      "mean    4.085271  3.887435\n",
      "mode    4.500000  4.000000\n",
      "median  4.000000  4.000000\n"
     ]
    }
   ],
   "source": [
    "# calculate mean\n",
    "mean_15 = fandango_15['Fandango_Stars'].mean()\n",
    "mean_16 = fandango_16['fandango'].mean()\n",
    "\n",
    "# calculate mode\n",
    "mode_15 = fandango_15['Fandango_Stars'].mode()[0]\n",
    "mode_16 = fandango_16['fandango'].mode()[0]\n",
    "\n",
    "# calculate median\n",
    "median_15 = fandango_15['Fandango_Stars'].median()\n",
    "median_16 = fandango_16['fandango'].median()\n",
    "\n",
    "# create Dataframe and put them together\n",
    "summary = pd.DataFrame()\n",
    "summary['2015'] = [mean_15, mode_15, median_15]\n",
    "summary['2016'] = [mean_16, mode_16, median_16]\n",
    "summary.index = ['mean', 'mode', 'median']\n",
    "print(summary)"
   ]
  },
  {
   "cell_type": "code",
   "execution_count": 192,
   "metadata": {
    "collapsed": false
   },
   "outputs": [
    {
     "data": {
      "image/png": "[encoded data removed]",
      "text/plain": [
       "<matplotlib.figure.Figure at 0x7f2817154cf8>"
      ]
     },
     "metadata": {},
     "output_type": "display_data"
    }
   ],
   "source": [
    "# plot grouped bar chart\n",
    "plt.style.use('fivethirtyeight')\n",
    "summary.plot.bar(rot = 0, figsize =(8, 6))\n",
    "plt.title('Comparing summary statistics: 2015 vs 2016', y = 1.07)\n",
    "plt.ylim(0,5.5)\n",
    "plt.yticks(arange(0,5.1,.5))\n",
    "plt.ylabel('rating')\n",
    "plt.show()"
   ]
  },
  {
   "cell_type": "markdown",
   "metadata": {
    "collapsed": true
   },
   "source": [
    "The findings are following:\n",
    "- The mean rating of 2016 movies drops 0.2, which means the average rating of 2016 movies is 5% lower than 2015. \n",
    "- The 2016 mode rating is 4.5 in 2016 and 4.0 in 2015.\n",
    "- The median ratings of both years are the same"
   ]
  },
  {
   "cell_type": "markdown",
   "metadata": {
    "collapsed": true
   },
   "source": [
    "## Conclusion\n",
    "\n",
    "It's concluded that there is a difference between the Fandango's rating of popular movies in 2015 and 2016. The rating in 2016 is lower than the rating in 2015."
   ]
  }
 ],
 "metadata": {
  "kernelspec": {
   "display_name": "Python 3",
   "language": "python",
   "name": "python3"
  },
  "language_info": {
   "codemirror_mode": {
    "name": "ipython",
    "version": 3
   },
   "file_extension": ".py",
   "mimetype": "text/x-python",
   "name": "python",
   "nbconvert_exporter": "python",
   "pygments_lexer": "ipython3",
   "version": "3.4.3"
  }
 },
 "nbformat": 4,
 "nbformat_minor": 2
}
